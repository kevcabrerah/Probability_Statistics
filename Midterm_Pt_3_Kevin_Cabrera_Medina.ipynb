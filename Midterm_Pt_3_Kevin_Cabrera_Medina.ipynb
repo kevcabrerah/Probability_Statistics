{
  "nbformat": 4,
  "nbformat_minor": 0,
  "metadata": {
    "colab": {
      "provenance": [],
      "collapsed_sections": [],
      "authorship_tag": "ABX9TyNTT7z+EyJouHVZ0FAOibyD",
      "include_colab_link": true
    },
    "kernelspec": {
      "name": "python3",
      "display_name": "Python 3"
    },
    "language_info": {
      "name": "python"
    }
  },
  "cells": [
    {
      "cell_type": "markdown",
      "metadata": {
        "id": "view-in-github",
        "colab_type": "text"
      },
      "source": [
        "<a href=\"https://colab.research.google.com/github/kevcabrerah/Probability_Statistics/blob/main/Midterm_Pt_3_Kevin_Cabrera_Medina.ipynb\" target=\"_parent\"><img src=\"https://colab.research.google.com/assets/colab-badge.svg\" alt=\"Open In Colab\"/></a>"
      ]
    },
    {
      "cell_type": "code",
      "execution_count": 1,
      "metadata": {
        "id": "GyX9Vy6AMOiR"
      },
      "outputs": [],
      "source": [
        "import numpy as np\n",
        "import matplotlib.pyplot as plt"
      ]
    },
    {
      "cell_type": "markdown",
      "source": [
        "This code tells Python to bring the NumPy library into your current environment\n",
        "\n",
        "The other doe ''matplotlib\" is a Python library to help us plot graphs.\n",
        "\n",
        "It also helps understand it is a model and not a function.\n",
        "\n",
        "\n",
        "numpy is the core library for scientific computing in Python "
      ],
      "metadata": {
        "id": "r_aDCaWoYCs4"
      }
    },
    {
      "cell_type": "code",
      "source": [
        "X = np.array([12,9,20,7,2])\n",
        "Y= np.array([38,28,63,22,6])"
      ],
      "metadata": {
        "id": "-onoBd0rMO06"
      },
      "execution_count": 2,
      "outputs": []
    },
    {
      "cell_type": "markdown",
      "source": [
        "An array is a data structure of the NumPy library.\n",
        "\n",
        "It is a grib of values\n",
        "\n",
        "It has information about raw data and to a way to locate and interpret an element"
      ],
      "metadata": {
        "id": "ZgAxFXHsYUaT"
      }
    },
    {
      "cell_type": "code",
      "source": [
        "plt.plot(X,Y, '.g')"
      ],
      "metadata": {
        "colab": {
          "base_uri": "https://localhost:8080/",
          "height": 282
        },
        "id": "yYDNcsLlMO5a",
        "outputId": "c2f3e0d5-204a-44e8-c620-06ced53ce0da"
      },
      "execution_count": 3,
      "outputs": [
        {
          "output_type": "execute_result",
          "data": {
            "text/plain": [
              "[<matplotlib.lines.Line2D at 0x7fcf2cbed090>]"
            ]
          },
          "metadata": {},
          "execution_count": 3
        },
        {
          "output_type": "display_data",
          "data": {
            "text/plain": [
              "<Figure size 432x288 with 1 Axes>"
            ],
            "image/png": "[encoded data removed]"
          },
          "metadata": {
            "needs_background": "light"
          }
        }
      ]
    },
    {
      "cell_type": "markdown",
      "source": [
        "plt.plot creates a graph and plots in the points \n"
      ],
      "metadata": {
        "id": "DjBg-68MYijQ"
      }
    },
    {
      "cell_type": "code",
      "source": [
        "m_guess = 0\n",
        "b_guess = 0"
      ],
      "metadata": {
        "id": "OXSH4LZ7MO96"
      },
      "execution_count": 4,
      "outputs": []
    },
    {
      "cell_type": "markdown",
      "source": [
        "# y=mx+b"
      ],
      "metadata": {
        "id": "XVWO5xT5SyVq"
      }
    },
    {
      "cell_type": "code",
      "source": [
        "m_guess * X + b_guess"
      ],
      "metadata": {
        "colab": {
          "base_uri": "https://localhost:8080/"
        },
        "id": "NaLCLk7gMPBK",
        "outputId": "fd601a49-24b2-4924-9dad-c566516c815d"
      },
      "execution_count": 5,
      "outputs": [
        {
          "output_type": "execute_result",
          "data": {
            "text/plain": [
              "array([0, 0, 0, 0, 0])"
            ]
          },
          "metadata": {},
          "execution_count": 5
        }
      ]
    },
    {
      "cell_type": "code",
      "source": [
        "y_guess = m_guess * X + b_guess"
      ],
      "metadata": {
        "id": "m5hCgeZtMPC6"
      },
      "execution_count": 6,
      "outputs": []
    },
    {
      "cell_type": "code",
      "source": [
        "y_guess - Y"
      ],
      "metadata": {
        "colab": {
          "base_uri": "https://localhost:8080/"
        },
        "id": "G74GSwJzMPFJ",
        "outputId": "67dfa28d-0846-4d63-89d2-15989c204411"
      },
      "execution_count": 7,
      "outputs": [
        {
          "output_type": "execute_result",
          "data": {
            "text/plain": [
              "array([-38, -28, -63, -22,  -6])"
            ]
          },
          "metadata": {},
          "execution_count": 7
        }
      ]
    },
    {
      "cell_type": "code",
      "source": [
        "np.sum((y_guess - Y)**2)"
      ],
      "metadata": {
        "colab": {
          "base_uri": "https://localhost:8080/"
        },
        "id": "L0zcqr73MPHS",
        "outputId": "01909950-d315-47ad-df66-106c483460ad"
      },
      "execution_count": 8,
      "outputs": [
        {
          "output_type": "execute_result",
          "data": {
            "text/plain": [
              "6717"
            ]
          },
          "metadata": {},
          "execution_count": 8
        }
      ]
    },
    {
      "cell_type": "markdown",
      "source": [
        "This is used to cancel out the -negative numbers by squaring them\n",
        "from y_guess - Y\n",
        "\n",
        "to get 6717, you square all of the array and add them together.\n",
        "\n",
        "(-38^2)+(-28^2)+(-63^2)+(-22^2)+(-6^2)=6717"
      ],
      "metadata": {
        "id": "d34poHoYZlGB"
      }
    },
    {
      "cell_type": "code",
      "source": [
        "best_loss_so_far = 100000000000\n",
        "m_best = 0\n",
        "b_best = 0\n",
        "\n",
        "for m_guess in np.linspace(-100,100,100):\n",
        "    for b_guess in np.linspace(-100,100,100):\n",
        "        \n",
        "        y_guess = m_guess * X + b_guess\n",
        "        \n",
        "        loss = np.sum((y_guess - Y)**2)\n",
        "\n",
        "        if loss < best_loss_so_far:\n",
        "          m_best = m_guess\n",
        "          b_best = b_best\n",
        "          best_loss_so_far = loss\n",
        "\n",
        "print(\"Fround best fit:\")\n",
        "print(m_best,b_best,loss)          \n",
        "        "
      ],
      "metadata": {
        "colab": {
          "base_uri": "https://localhost:8080/"
        },
        "id": "AGWUV6mPMPLi",
        "outputId": "7902a0c2-b8ed-4899-af5d-6fb7d581cc48"
      },
      "execution_count": 9,
      "outputs": [
        {
          "output_type": "stream",
          "name": "stdout",
          "text": [
            "Fround best fit:\n",
            "3.030303030303031 0 7378517.0\n"
          ]
        }
      ]
    },
    {
      "cell_type": "markdown",
      "source": [
        "Linear Regression\n",
        "a model between two variables and estimate the value of a response by using a line-of-best-fit\n",
        "\n",
        "This code made it easier for us to find the best possible variables."
      ],
      "metadata": {
        "id": "dJnFZm4LZvdT"
      }
    },
    {
      "cell_type": "code",
      "source": [
        "import numpy as np\n",
        "import matplotlib.pyplot as plt"
      ],
      "metadata": {
        "id": "JOSfE5NoMPQK"
      },
      "execution_count": 10,
      "outputs": []
    },
    {
      "cell_type": "code",
      "source": [
        "D = np.array([10,4.5,20,3,6])    # <- Put your numbers here  Diameter\n",
        "C = np.array([31.4,14.1,62.8,9.4,18.8])  #                           Circumference"
      ],
      "metadata": {
        "id": "8hgZj-GAk5Hs"
      },
      "execution_count": 11,
      "outputs": []
    },
    {
      "cell_type": "markdown",
      "source": [
        "These are 5 measured objects in my home. cup, Vick, plate, cologne, JBL speaker.\n",
        "\n",
        "To find the circumference of each of these objects; you get the diameter of each object. Multiply it by pi(3.14).\n",
        "\n",
        "3.14(10), 3.14(4.5), 3.14(20), 3.14(3), 3.14(6)"
      ],
      "metadata": {
        "id": "TSZVo9UXaKGt"
      }
    },
    {
      "cell_type": "code",
      "source": [
        "plt.plot(D,C,'g.')\n",
        "\n",
        "plt.title('Objects in my house')"
      ],
      "metadata": {
        "colab": {
          "base_uri": "https://localhost:8080/",
          "height": 298
        },
        "id": "j_P2cmkuk5LR",
        "outputId": "7d99b360-5ab9-448b-fe5e-0a65517ad8c9"
      },
      "execution_count": 12,
      "outputs": [
        {
          "output_type": "execute_result",
          "data": {
            "text/plain": [
              "Text(0.5, 1.0, 'Objects in my house')"
            ]
          },
          "metadata": {},
          "execution_count": 12
        },
        {
          "output_type": "display_data",
          "data": {
            "text/plain": [
              "<Figure size 432x288 with 1 Axes>"
            ],
            "image/png": "[encoded data removed]"
          },
          "metadata": {
            "needs_background": "light"
          }
        }
      ]
    },
    {
      "cell_type": "markdown",
      "source": [
        "plt.title give helps you put a title on a graph\n",
        "\n",
        "('g.') means that the graph is going in dots and in a green color."
      ],
      "metadata": {
        "id": "v2g2QIr4aCtx"
      }
    },
    {
      "cell_type": "code",
      "source": [
        "x = D\n",
        "y = C "
      ],
      "metadata": {
        "id": "YwG71S1-k5Ob"
      },
      "execution_count": 13,
      "outputs": []
    },
    {
      "cell_type": "code",
      "source": [
        "m_guess = 0\n",
        "b_guess = 0 "
      ],
      "metadata": {
        "id": "BNrA9VAfk5RF"
      },
      "execution_count": 14,
      "outputs": []
    },
    {
      "cell_type": "markdown",
      "source": [
        "m_guess, guesses a number but here they are = 0\n"
      ],
      "metadata": {
        "id": "yOxxuoLJaWXU"
      }
    },
    {
      "cell_type": "code",
      "source": [
        "x"
      ],
      "metadata": {
        "colab": {
          "base_uri": "https://localhost:8080/"
        },
        "id": "yqS-179Rk5T3",
        "outputId": "e66e1db4-5a63-49f8-f920-8dd6be43a382"
      },
      "execution_count": 15,
      "outputs": [
        {
          "output_type": "execute_result",
          "data": {
            "text/plain": [
              "array([10. ,  4.5, 20. ,  3. ,  6. ])"
            ]
          },
          "metadata": {},
          "execution_count": 15
        }
      ]
    },
    {
      "cell_type": "markdown",
      "source": [
        "x is the diameter and this is what x = too\n"
      ],
      "metadata": {
        "id": "cDuEWoHIaZSN"
      }
    },
    {
      "cell_type": "code",
      "source": [
        "m_guess * x"
      ],
      "metadata": {
        "colab": {
          "base_uri": "https://localhost:8080/"
        },
        "id": "6DP0i0Wpk5Wv",
        "outputId": "de50323e-1ec0-4fc8-9f29-299095bbd8a6"
      },
      "execution_count": 16,
      "outputs": [
        {
          "output_type": "execute_result",
          "data": {
            "text/plain": [
              "array([0., 0., 0., 0., 0.])"
            ]
          },
          "metadata": {},
          "execution_count": 16
        }
      ]
    },
    {
      "cell_type": "markdown",
      "source": [
        "X is being multiplied by m_guess=0\n",
        "\n",
        "which is why the array are all zeros\n"
      ],
      "metadata": {
        "id": "tYFct1sDacfV"
      }
    },
    {
      "cell_type": "code",
      "source": [
        "m_guess * x + b_guess"
      ],
      "metadata": {
        "colab": {
          "base_uri": "https://localhost:8080/"
        },
        "id": "agbH6TOHk5Zp",
        "outputId": "767194f0-de46-4fba-f14d-988fc2a6511b"
      },
      "execution_count": 17,
      "outputs": [
        {
          "output_type": "execute_result",
          "data": {
            "text/plain": [
              "array([0., 0., 0., 0., 0.])"
            ]
          },
          "metadata": {},
          "execution_count": 17
        }
      ]
    },
    {
      "cell_type": "code",
      "source": [
        "y_guess = m_guess * x + b_guess"
      ],
      "metadata": {
        "id": "7o5nlD6gk5cb"
      },
      "execution_count": 18,
      "outputs": []
    },
    {
      "cell_type": "code",
      "source": [
        "y_guess - y"
      ],
      "metadata": {
        "colab": {
          "base_uri": "https://localhost:8080/"
        },
        "id": "dqLM65rhk5fl",
        "outputId": "6dec560e-dbd7-4b53-97ef-5c8b2e8075a9"
      },
      "execution_count": 19,
      "outputs": [
        {
          "output_type": "execute_result",
          "data": {
            "text/plain": [
              "array([-31.4, -14.1, -62.8,  -9.4, -18.8])"
            ]
          },
          "metadata": {},
          "execution_count": 19
        }
      ]
    },
    {
      "cell_type": "code",
      "source": [
        "np.sum((y_guess - y)**2)"
      ],
      "metadata": {
        "colab": {
          "base_uri": "https://localhost:8080/"
        },
        "id": "-0O4BIYvk5iV",
        "outputId": "6dae18a4-a179-44dc-bb40-144e828092f7"
      },
      "execution_count": 20,
      "outputs": [
        {
          "output_type": "execute_result",
          "data": {
            "text/plain": [
              "5570.41"
            ]
          },
          "metadata": {},
          "execution_count": 20
        }
      ]
    },
    {
      "cell_type": "code",
      "source": [
        "best_loss_so_far = 100000000000\n",
        "m_best = 0\n",
        "b_best = 0\n",
        "\n",
        "for m_guess in np.linspace(-100,100,100):\n",
        "    for b_guess in np.linspace(-100,100,100):\n",
        "        \n",
        "        y_guess = m_guess * x + b_guess\n",
        "        \n",
        "        loss = np.sum((y_guess - y)**2)\n",
        "\n",
        "        if loss < best_loss_so_far:\n",
        "          m_best = m_guess\n",
        "          b_best = b_best\n",
        "          best_loss_so_far = loss\n",
        "\n",
        "print(\"Fround best fit:\")\n",
        "print(m_best,b_best,loss)  "
      ],
      "metadata": {
        "colab": {
          "base_uri": "https://localhost:8080/"
        },
        "id": "S744DYMak5k5",
        "outputId": "b4881813-9450-487f-e0b6-66fea255b58d"
      },
      "execution_count": 21,
      "outputs": [
        {
          "output_type": "stream",
          "name": "stdout",
          "text": [
            "Fround best fit:\n",
            "3.030303030303031 0 6195880.410000001\n"
          ]
        }
      ]
    },
    {
      "cell_type": "markdown",
      "source": [
        "np.linspace is a tool in Python for creating numeric sequences\n",
        "\n",
        "(-100,100, 100) it won't go lower then -100 or hire.\n",
        "\n",
        "It is going to give you the guess between (-100 and 100)\n",
        "\n",
        "m_best, will give you the best guess\n",
        "\n",
        "This is that this code does, it helps us t people find the best possible fir, solutions, variables.\n",
        "\n",
        "Instead of doing it our selves."
      ],
      "metadata": {
        "id": "lsZUeSPlahOF"
      }
    },
    {
      "cell_type": "markdown",
      "source": [],
      "metadata": {
        "id": "ZA9K3qEdbO_m"
      }
    },
    {
      "cell_type": "markdown",
      "source": [
        "# The estimated relationship is:\n",
        "\n",
        "C=?D+?"
      ],
      "metadata": {
        "id": "pDa-aiStnXsf"
      }
    },
    {
      "cell_type": "markdown",
      "source": [],
      "metadata": {
        "id": "xVr_cfemnXvB"
      }
    },
    {
      "cell_type": "markdown",
      "source": [
        "# Question 1:\n",
        "What do  m  and  b  represent in these equations?"
      ],
      "metadata": {
        "id": "eWLi6urynXxz"
      }
    },
    {
      "cell_type": "markdown",
      "source": [
        "m is slope of the the line and b is the y-intercept. \n",
        "\n",
        "m show how steep a line is. b is = to y when x=0\n",
        "\n",
        "> Indented block\n",
        "\n"
      ],
      "metadata": {
        "id": "v02ai9YjnX0k"
      }
    },
    {
      "cell_type": "markdown",
      "source": [
        "# Question 2:\n",
        "Guess what the correct values  m  and  b  should be."
      ],
      "metadata": {
        "id": "FROk8tr6nX3e"
      }
    },
    {
      "cell_type": "markdown",
      "source": [
        "m is the slope of the line and you need to find the slople of the to properly guess the correct value of m. \n",
        "\n",
        "m is found picking to points on the line and ploting them in point slope form equation to find m or rise/run\n",
        "\n",
        "to find b or thw y-intercept, you can use the poont slope formula to find the correct value of b."
      ],
      "metadata": {
        "id": "cl399UsTnX6t"
      }
    },
    {
      "cell_type": "markdown",
      "source": [
        "# Question 3:\n",
        "Does it make sense to include  b  in the parameters?"
      ],
      "metadata": {
        "id": "2xF9U9ezvFvf"
      }
    },
    {
      "cell_type": "markdown",
      "source": [
        "what are paramet?\n",
        "It is used to descrided obects statiscally \n",
        "\n",
        "It does makes sense to include b in parameter because it will hewlp us understand and and help solve linear equations and help us graph. "
      ],
      "metadata": {
        "id": "k3D2gEg6vFye"
      }
    },
    {
      "cell_type": "code",
      "source": [],
      "metadata": {
        "id": "Tb17BxtHk5s2"
      },
      "execution_count": null,
      "outputs": []
    }
  ]
}