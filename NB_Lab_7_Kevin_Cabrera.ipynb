{
  "nbformat": 4,
  "nbformat_minor": 0,
  "metadata": {
    "colab": {
      "provenance": [],
      "authorship_tag": "ABX9TyPzIThDBT9RbRVNv08MovhI",
      "include_colab_link": true
    },
    "kernelspec": {
      "name": "python3",
      "display_name": "Python 3"
    },
    "language_info": {
      "name": "python"
    }
  },
  "cells": [
    {
      "cell_type": "markdown",
      "metadata": {
        "id": "view-in-github",
        "colab_type": "text"
      },
      "source": [
        "<a href=\"https://colab.research.google.com/github/kevcabrerah/Probability_Statistics/blob/main/NB_Lab_7_Kevin_Cabrera.ipynb\" target=\"_parent\"><img src=\"https://colab.research.google.com/assets/colab-badge.svg\" alt=\"Open In Colab\"/></a>"
      ]
    },
    {
      "cell_type": "markdown",
      "source": [
        "# pt. 1\n"
      ],
      "metadata": {
        "id": "Co6U3ojdUrhc"
      }
    },
    {
      "cell_type": "code",
      "source": [
        "plt.plot(X,Y,'g.')"
      ],
      "metadata": {
        "colab": {
          "base_uri": "https://localhost:8080/",
          "height": 283
        },
        "id": "Y-JwJgccHgt1",
        "outputId": "98161f0d-2156-47d3-b8b6-672d886d58d4"
      },
      "execution_count": 19,
      "outputs": [
        {
          "output_type": "execute_result",
          "data": {
            "text/plain": [
              "[<matplotlib.lines.Line2D at 0x7f06fa2f33a0>]"
            ]
          },
          "metadata": {},
          "execution_count": 19
        },
        {
          "output_type": "display_data",
          "data": {
            "text/plain": [
              "<Figure size 432x288 with 1 Axes>"
            ],
            "image/png": "[encoded data removed]"
          },
          "metadata": {
            "needs_background": "light"
          }
        }
      ]
    },
    {
      "cell_type": "code",
      "execution_count": 2,
      "metadata": {
        "id": "x8OPdPDXGj-c"
      },
      "outputs": [],
      "source": [
        "import numpy as np\n",
        "import matplotlib.pyplot as plt"
      ]
    },
    {
      "cell_type": "markdown",
      "source": [
        "tells Python to give NumPy the alias of np"
      ],
      "metadata": {
        "id": "B_reXgBJbvi0"
      }
    },
    {
      "cell_type": "code",
      "source": [
        "X = np.array([17,57,64,93,99,103,135,240,370,390,398,645,675])\n",
        "Y = np.array([1270,3400,5500,4300,5700,8700,11300,15700,19300,23900,21200,39800,41400])"
      ],
      "metadata": {
        "id": "pFnsbXHoG1CQ"
      },
      "execution_count": 3,
      "outputs": []
    },
    {
      "cell_type": "markdown",
      "source": [
        "these are all the x and y intercepts that are graphed"
      ],
      "metadata": {
        "id": "TXCusUgeUmJw"
      }
    },
    {
      "cell_type": "code",
      "source": [
        "m_guess = 0\n",
        "b_guess = 0 "
      ],
      "metadata": {
        "id": "dWaPmoi_Hkph"
      },
      "execution_count": 4,
      "outputs": []
    },
    {
      "cell_type": "code",
      "source": [
        "m_guess * X + b_guess"
      ],
      "metadata": {
        "colab": {
          "base_uri": "https://localhost:8080/"
        },
        "id": "017hos8RHn1Z",
        "outputId": "5e8d071b-60d2-49be-f771-99e19f86c9ce"
      },
      "execution_count": 5,
      "outputs": [
        {
          "output_type": "execute_result",
          "data": {
            "text/plain": [
              "array([0, 0, 0, 0, 0, 0, 0, 0, 0, 0, 0, 0, 0])"
            ]
          },
          "metadata": {},
          "execution_count": 5
        }
      ]
    },
    {
      "cell_type": "markdown",
      "source": [
        "m_guess and b_guess are = to 0 then all the answer would equal to zeros. (0*17+0=0)"
      ],
      "metadata": {
        "id": "n68Dgl7AePG9"
      }
    },
    {
      "cell_type": "code",
      "source": [
        "y_guess = m_guess * X + b_guess"
      ],
      "metadata": {
        "id": "mJhv_KYHHp70"
      },
      "execution_count": 6,
      "outputs": []
    },
    {
      "cell_type": "code",
      "source": [
        "y_guess - Y"
      ],
      "metadata": {
        "colab": {
          "base_uri": "https://localhost:8080/"
        },
        "id": "KnYA7SZqHrog",
        "outputId": "da55a5ad-e5d6-474c-bf73-9f3619a4d661"
      },
      "execution_count": 7,
      "outputs": [
        {
          "output_type": "execute_result",
          "data": {
            "text/plain": [
              "array([ -1270,  -3400,  -5500,  -4300,  -5700,  -8700, -11300, -15700,\n",
              "       -19300, -23900, -21200, -39800, -41400])"
            ]
          },
          "metadata": {},
          "execution_count": 7
        }
      ]
    },
    {
      "cell_type": "markdown",
      "source": [
        "this is just 0 minus the y intercept (0-1270=-1270 "
      ],
      "metadata": {
        "id": "z5_4pmsaeCdz"
      }
    },
    {
      "cell_type": "code",
      "source": [
        "np.sum((y_guess - Y)**2)"
      ],
      "metadata": {
        "colab": {
          "base_uri": "https://localhost:8080/"
        },
        "id": "IPgkcybrHtca",
        "outputId": "a872bed1-e8e5-4969-87fa-ecb18da8512e"
      },
      "execution_count": 8,
      "outputs": [
        {
          "output_type": "execute_result",
          "data": {
            "text/plain": [
              "5235412900"
            ]
          },
          "metadata": {},
          "execution_count": 8
        }
      ]
    },
    {
      "cell_type": "markdown",
      "source": [
        " used to compute the sum of all elements, the sum of each row, and the sum of each column of a given array is np.sum "
      ],
      "metadata": {
        "id": "U4QA3jDqd95E"
      }
    },
    {
      "cell_type": "code",
      "source": [
        "loss = np.sum((y_guess - Y)**2)"
      ],
      "metadata": {
        "id": "zM-_S48BHvsG"
      },
      "execution_count": 9,
      "outputs": []
    },
    {
      "cell_type": "code",
      "source": [
        "best_loss_so_far = 1000000000000\n",
        "m_best = 0 \n",
        "b_best = 0 \n",
        "for m_guess in np.linspace(-100,100,100):\n",
        "    for b_guess in np.linspace(-100,100,100):\n",
        "        \n",
        "        y_guess = m_guess * X + b_guess\n",
        "\n",
        "        loss = np.sum((y_guess - Y)**2)\n",
        "\n",
        "        if loss < best_loss_so_far:\n",
        "            m_best = m_guess\n",
        "            b_best = b_guess\n",
        "            best_loss_so_far = loss\n",
        "\n",
        "print(\"Found best fit:\")\n",
        "print(m_best,b_best,loss)"
      ],
      "metadata": {
        "colab": {
          "base_uri": "https://localhost:8080/"
        },
        "id": "Lxgr97W5Hxqh",
        "outputId": "214c9f52-c183-4ff1-972e-93f8f9a07cb6"
      },
      "execution_count": 10,
      "outputs": [
        {
          "output_type": "stream",
          "name": "stdout",
          "text": [
            "Found best fit:\n",
            "59.59595959595961 100.0 2329330900.0\n"
          ]
        }
      ]
    },
    {
      "cell_type": "markdown",
      "source": [
        "np.linspace is a tool in Python for creating numeric sequences"
      ],
      "metadata": {
        "id": "2pgEsCJfewg-"
      }
    },
    {
      "cell_type": "code",
      "source": [
        "m_best"
      ],
      "metadata": {
        "colab": {
          "base_uri": "https://localhost:8080/"
        },
        "id": "XrF471knH09v",
        "outputId": "372f04f5-b543-4585-ef31-4ae330c67eee"
      },
      "execution_count": 11,
      "outputs": [
        {
          "output_type": "execute_result",
          "data": {
            "text/plain": [
              "59.59595959595961"
            ]
          },
          "metadata": {},
          "execution_count": 11
        }
      ]
    },
    {
      "cell_type": "markdown",
      "source": [
        "the best fit "
      ],
      "metadata": {
        "id": "IY50-i5vfOZb"
      }
    },
    {
      "cell_type": "code",
      "source": [
        "H = m_best"
      ],
      "metadata": {
        "id": "Oh7jJLSQH3f6"
      },
      "execution_count": 12,
      "outputs": []
    },
    {
      "cell_type": "code",
      "source": [
        "1/H"
      ],
      "metadata": {
        "colab": {
          "base_uri": "https://localhost:8080/"
        },
        "id": "7tvpv4syIDwI",
        "outputId": "3a621e1e-5c04-4ddc-b4d5-de20b5bdb7a8"
      },
      "execution_count": 13,
      "outputs": [
        {
          "output_type": "execute_result",
          "data": {
            "text/plain": [
              "0.016779661016949148"
            ]
          },
          "metadata": {},
          "execution_count": 13
        }
      ]
    },
    {
      "cell_type": "markdown",
      "source": [
        "this is 1/59.595959559561= 0.01677966106949148"
      ],
      "metadata": {
        "id": "Um2CGIJTfYB3"
      }
    },
    {
      "cell_type": "code",
      "source": [],
      "metadata": {
        "id": "MCTGtIegJCaL"
      },
      "execution_count": 13,
      "outputs": []
    },
    {
      "cell_type": "code",
      "source": [],
      "metadata": {
        "id": "7iPu7dQrJN5A"
      },
      "execution_count": 13,
      "outputs": []
    },
    {
      "cell_type": "code",
      "source": [],
      "metadata": {
        "id": "AVf3U_4dJN7x"
      },
      "execution_count": 13,
      "outputs": []
    },
    {
      "cell_type": "markdown",
      "source": [
        "# Pt. 2\n"
      ],
      "metadata": {
        "id": "R8NSNjD8UjyK"
      }
    },
    {
      "cell_type": "code",
      "source": [
        "import numpy as np\n",
        "import matplotlib.pyplot as plt"
      ],
      "metadata": {
        "id": "MaxMG6wMU4-_"
      },
      "execution_count": 14,
      "outputs": []
    },
    {
      "cell_type": "code",
      "source": [
        "import pandas as pd\n",
        "import numpy as np\n",
        "import matplotlib.pyplot as plt\n",
        "def get_database(url,sheet_name):\n",
        "    url_head = \"https://docs.google.com/spreadsheets/d/\"\n",
        "    url_foot = \"/gviz/tq?tqx=out:csv&sheet=\"\n",
        "    url_body = url.split('/')[5]\n",
        "    # sheet_name = \"1\"\n",
        "    url_csv = url_head + url_body + url_foot + sheet_name\n",
        "    df = pd.read_csv(url_csv, sep=',', skiprows=0)\n",
        "    return df"
      ],
      "metadata": {
        "id": "74hj7ScnJN95"
      },
      "execution_count": 15,
      "outputs": []
    },
    {
      "cell_type": "code",
      "source": [
        "url = 'https://docs.google.com/spreadsheets/d/1B_HW2uVGQv9W7b6vVZDSkOPLtmfodHrX4G0qtQbIenk/edit?usp=sharing'"
      ],
      "metadata": {
        "id": "jtjWu6LYUDAV"
      },
      "execution_count": 16,
      "outputs": []
    },
    {
      "cell_type": "code",
      "source": [
        "sheet_name = 'Distance'"
      ],
      "metadata": {
        "id": "2jMpTvnMNyVn"
      },
      "execution_count": 17,
      "outputs": []
    },
    {
      "cell_type": "code",
      "source": [
        "Distance_data.shape"
      ],
      "metadata": {
        "colab": {
          "base_uri": "https://localhost:8080/",
          "height": 171
        },
        "id": "8mWuL8f1N149",
        "outputId": "0793af58-550a-4c6f-a80f-9671f2f8d8b3"
      },
      "execution_count": 18,
      "outputs": [
        {
          "output_type": "error",
          "ename": "NameError",
          "evalue": "ignored",
          "traceback": [
            "\u001b[0;31m---------------------------------------------------------------------------\u001b[0m",
            "\u001b[0;31mNameError\u001b[0m                                 Traceback (most recent call last)",
            "\u001b[0;32m<ipython-input-18-71f6fa15675e>\u001b[0m in \u001b[0;36m<module>\u001b[0;34m\u001b[0m\n\u001b[0;32m----> 1\u001b[0;31m \u001b[0mDistance_data\u001b[0m\u001b[0;34m.\u001b[0m\u001b[0mshape\u001b[0m\u001b[0;34m\u001b[0m\u001b[0;34m\u001b[0m\u001b[0m\n\u001b[0m",
            "\u001b[0;31mNameError\u001b[0m: name 'Distance_data' is not defined"
          ]
        }
      ]
    },
    {
      "cell_type": "code",
      "source": [],
      "metadata": {
        "id": "l6hg29dvN3uW"
      },
      "execution_count": null,
      "outputs": []
    }
  ]
}